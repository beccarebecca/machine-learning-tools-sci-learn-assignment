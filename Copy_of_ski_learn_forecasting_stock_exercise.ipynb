{
  "nbformat": 4,
  "nbformat_minor": 0,
  "metadata": {
    "colab": {
      "name": "Copy of ski-learn forecasting stock exercise",
      "version": "0.3.2",
      "provenance": [],
      "collapsed_sections": [],
      "include_colab_link": true
    },
    "kernelspec": {
      "name": "python3",
      "display_name": "Python 3"
    }
  },
  "cells": [
    {
      "cell_type": "markdown",
      "metadata": {
        "id": "view-in-github",
        "colab_type": "text"
      },
      "source": [
        "<a href=\"https://colab.research.google.com/github/beccarebecca/machine-learning-tools-sci-learn-assignment/blob/master/Copy_of_ski_learn_forecasting_stock_exercise.ipynb\" target=\"_parent\"><img src=\"https://colab.research.google.com/assets/colab-badge.svg\" alt=\"Open In Colab\"/></a>"
      ]
    },
    {
      "cell_type": "code",
      "metadata": {
        "id": "6ThdGa8p4BTK",
        "colab_type": "code",
        "colab": {}
      },
      "source": [
        "\n",
        "import pandas as pd\n",
        "import matplotlib.pyplot as plot\n",
        "import numpy as np\n",
        "from numpy import array\n",
        "from sklearn import linear_model as LM\n",
        "reg = LM.LinearRegression() \n",
        "rgCV = LM.RidgeCV(alphas=np.logspace(-6, 6, 13))\n",
        "lassoL = LM.LassoLars(alpha=.1)\n",
        "from sklearn.model_selection import train_test_split\n"
      ],
      "execution_count": 0,
      "outputs": []
    },
    {
      "cell_type": "code",
      "metadata": {
        "id": "p4U0i6Hy4IYh",
        "colab_type": "code",
        "colab": {}
      },
      "source": [
        "\n",
        "x = []\n",
        "y = []\n",
        "\n",
        "#filling my x and y lists with dataframe Adj close data , and appending the number of days to the y list, and then transforming them to a matrix with numpy\n",
        "\n",
        "\n",
        "stock = pd.read_csv('https://raw.githubusercontent.com/beccarebecca/machine-learning-tools-sci-learn-assignment/master/AAPL(3).csv')\n",
        "for ind in stock.index: \n",
        "     x.append(stock['Adj Close'][ind]) \n",
        "     y.append(ind + 1)\n",
        "\n",
        "x = array(x)\n",
        "\n",
        "# reshape\n",
        "x = x.reshape((x.shape[0], 1))\n",
        "y = array(y)\n",
        "\n",
        "# reshape\n",
        "y = y.reshape((y.shape[0], 1))\n",
        "\n",
        "\n",
        "\n",
        "\n",
        "#splitting my x and y data into training, and testing (for perventing overfitting)\n",
        "\n",
        "xTrain, xTest, yTrain, yTest = train_test_split(x,y, test_size = .25, random_state = 0)\n",
        "           "
      ],
      "execution_count": 0,
      "outputs": []
    },
    {
      "cell_type": "code",
      "metadata": {
        "id": "LOhDJCk0C4dH",
        "colab_type": "code",
        "outputId": "8502658f-f24a-44cf-a940-e7de39516595",
        "colab": {
          "base_uri": "https://localhost:8080/",
          "height": 34
        }
      },
      "source": [
        "# least squares regression training, and prediction\n",
        "\n",
        "\n",
        "reg.fit(xTrain,yTrain)\n",
        "\n",
        "#LR_forecast = reg.predict(xTest)\n"
      ],
      "execution_count": 0,
      "outputs": [
        {
          "output_type": "execute_result",
          "data": {
            "text/plain": [
              "LinearRegression(copy_X=True, fit_intercept=True, n_jobs=None, normalize=False)"
            ]
          },
          "metadata": {
            "tags": []
          },
          "execution_count": 257
        }
      ]
    },
    {
      "cell_type": "code",
      "metadata": {
        "id": "K671sa4rIxvK",
        "colab_type": "code",
        "outputId": "7ae7da4c-7c56-4068-daa1-1a3aa7f2f9a1",
        "colab": {
          "base_uri": "https://localhost:8080/",
          "height": 86
        }
      },
      "source": [
        "#ridgeCV regression training,and prediction\n",
        "rgCV.fit(xTrain,yTrain)\n",
        "\n",
        "#ridge_forecast = rgCV.predict(xTest)\n"
      ],
      "execution_count": 0,
      "outputs": [
        {
          "output_type": "execute_result",
          "data": {
            "text/plain": [
              "RidgeCV(alphas=array([1.e-06, 1.e-05, 1.e-04, 1.e-03, 1.e-02, 1.e-01, 1.e+00, 1.e+01,\n",
              "       1.e+02, 1.e+03, 1.e+04, 1.e+05, 1.e+06]),\n",
              "        cv=None, fit_intercept=True, gcv_mode=None, normalize=False,\n",
              "        scoring=None, store_cv_values=False)"
            ]
          },
          "metadata": {
            "tags": []
          },
          "execution_count": 258
        }
      ]
    },
    {
      "cell_type": "code",
      "metadata": {
        "id": "l5zPM2lV4oun",
        "colab_type": "code",
        "outputId": "92a26281-5e33-4efb-ba23-b1e283cf2645",
        "colab": {
          "base_uri": "https://localhost:8080/",
          "height": 69
        }
      },
      "source": [
        "# lassoLars regression training, and prediction\n",
        "\n",
        "lassoL.fit(xTrain,yTrain)\n",
        "\n",
        "#lasso_forecast = lassoL.predict(xTest)\n"
      ],
      "execution_count": 0,
      "outputs": [
        {
          "output_type": "execute_result",
          "data": {
            "text/plain": [
              "LassoLars(alpha=0.1, copy_X=True, eps=2.220446049250313e-16, fit_intercept=True,\n",
              "          fit_path=True, max_iter=500, normalize=True, positive=False,\n",
              "          precompute='auto', verbose=False)"
            ]
          },
          "metadata": {
            "tags": []
          },
          "execution_count": 259
        }
      ]
    },
    {
      "cell_type": "code",
      "metadata": {
        "id": "CdsQPD1hUXbo",
        "colab_type": "code",
        "colab": {}
      },
      "source": [
        "\n",
        "  \n",
        "\n"
      ],
      "execution_count": 0,
      "outputs": []
    },
    {
      "cell_type": "code",
      "metadata": {
        "id": "Kcm571HcKL4Y",
        "colab_type": "code",
        "outputId": "f3fcfb80-9711-4a67-9d88-987e4f5cbfdc",
        "colab": {
          "base_uri": "https://localhost:8080/",
          "height": 295
        }
      },
      "source": [
        "#visual view to the Apple stock prediction against the actual outcome\n",
        "\n",
        "plot.scatter(xTrain, yTrain, color = 'blue')\n",
        "plot.plot(xTest,reg.predict(xTest), color ='red')\n",
        "plot.plot(xTest,lassoL.predict(xTest), color ='green')\n",
        "plot.plot(xTest,rgCV.predict(xTest), color ='hotPink')\n",
        "plot.title('Apple Stock Forecast (assignment)') \n",
        "plot.xlabel('Day of the Year')\n",
        "plot.ylabel('Adjusted Stock At Close')\n",
        "plot.linewidth=4\n",
        "plot.show()"
      ],
      "execution_count": 0,
      "outputs": [
        {
          "output_type": "display_data",
          "data": {
            "image/png": "[encoded data removed]",
            "text/plain": [
              "<Figure size 432x288 with 1 Axes>"
            ]
          },
          "metadata": {
            "tags": []
          }
        }
      ]
    },
    {
      "cell_type": "code",
      "metadata": {
        "id": "XdbgWQRouoRz",
        "colab_type": "code",
        "outputId": "f82c7f7c-e387-4d4b-dc64-0c227fc864ad",
        "colab": {
          "base_uri": "https://localhost:8080/",
          "height": 34
        }
      },
      "source": [
        "#score of the most accurate linear model, and percentage\n",
        "\n",
        "linear_regressionForecast= {reg.score(xTrain, yTrain):'lr_leastsquares',rgCV.score(xTrain, yTrain):'ridgeCV',lassoL.score(xTrain, yTrain):'lasso lars'}\n",
        "lrModel, accur = max(zip(linear_regressionForecast.values(), linear_regressionForecast.keys()))\n",
        "print(\"The linear model that preformed the best in my forecast program was the\",lrModel, \"at a percent accuacy of\" , accur, \".\")\n",
        "  "
      ],
      "execution_count": 0,
      "outputs": [
        {
          "output_type": "stream",
          "text": [
            "The linear model that preformed the best in my forecast program was the ridgeCV at a percent accuacy of 0.00013314107777506745 .\n"
          ],
          "name": "stdout"
        }
      ]
    },
    {
      "cell_type": "code",
      "metadata": {
        "id": "zY45FoSmNEqa",
        "colab_type": "code",
        "colab": {}
      },
      "source": [
        ""
      ],
      "execution_count": 0,
      "outputs": []
    }
  ]
}